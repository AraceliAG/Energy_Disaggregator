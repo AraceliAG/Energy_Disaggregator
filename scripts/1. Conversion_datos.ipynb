{
 "cells": [
  {
   "cell_type": "markdown",
   "metadata": {},
   "source": [
    "CONVERSION DATOS PARA FECHAS\n",
    "\n",
    "Corrección de formatos tipo datatime, esto para tener un mejor control de fechas"
   ]
  },
  {
   "cell_type": "code",
   "execution_count": null,
   "metadata": {},
   "outputs": [],
   "source": [
    "#EL FORMATO EL CUAL TOMAREMOS EN CONSIDERACIÓN SERÁ %y-%m-%d_%H-%M-%S\n",
    "\n",
    "import pandas as pd\n",
    "\n",
    "# RUTA DE ARCHIVO CONCATENADO\n",
    "ruta_archivo = 'C:/Users/cesar chavez/Desktop/proyecto/CARPETAS DE DATOS/2024-09-04/Corriente_Avg/archivo_concatenado.csv'\n",
    "\n",
    "\n",
    "formato_original = '%Y/%m/%d %H:%M:%S'  # CAMBIAR AL FORMTATO QUE SE ENCUENTRAN EN TUS DATOS EXTRAÍDOS\n",
    "formato_deseado = '%Y-%m-%d_%H-%M-%S.%f'  # FROMATO DESEADO\n",
    "\n",
    "# CARGAR EL ARCHIVO\n",
    "df = pd.read_csv(ruta_archivo)\n",
    "\n",
    "# VERIFICAMOS SIMPLEMENTE EL CONTENIDO QUE SE ENCUENTRA\n",
    "print(\"Contenido original del archivo:\")\n",
    "print(df.head())\n"
   ]
  },
  {
   "cell_type": "code",
   "execution_count": null,
   "metadata": {},
   "outputs": [],
   "source": [
    "# CONVERTIMOS LA FECHA A TIPO DATETIME PARA CONERSTIRLO EN EL FORMATO REQUERRIDO\n",
    "df['fecha'] = pd.to_datetime(df['fecha'], format=formato_original, errors='coerce')\n",
    "\n",
    "# VERIFICACION DE FECHA EN DONDE SE MOSTRARÁ LAS FECHAS QUE NO TUVIERON ÉXITO AL MOMENTO DE REALIZAR LA CONVERSIÓN\n",
    "print(f\"Número de fechas no convertidas: {df['fecha'].isna().sum()}\")\n",
    "\n",
    "# AQUI SIMPLEMENTE HACEMOS EL CAMBIO\n",
    "df['fecha'] = df['fecha'].dt.strftime(formato_deseado)\n",
    "\n",
    "# GUARDAMOS ARCHIVO\n",
    "df.to_csv(ruta_archivo, index=False)\n",
    "\n",
    "print(\"Formato de fechas actualizado en el archivo CSV.\")"
   ]
  }
 ],
 "metadata": {
  "kernelspec": {
   "display_name": "Python 3",
   "language": "python",
   "name": "python3"
  },
  "language_info": {
   "name": "python",
   "version": "3.11.4"
  }
 },
 "nbformat": 4,
 "nbformat_minor": 2
}
