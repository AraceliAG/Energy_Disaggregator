{
 "cells": [
  {
   "cell_type": "code",
   "execution_count": 1,
   "metadata": {},
   "outputs": [],
   "source": [
    "import pandas as pd\n",
    "import os\n",
    "\n",
    "\n",
    "datos = 'datos'\n",
    "salida = 'Datos_Dispositivos.csv'\n",
    "\n",
    "\n",
    "def concatenar (datos, salida):\n",
    "    dataframe = []\n",
    "\n",
    "    for i in os.listdir(ruta):\n",
    "        if i endswith(\".csv\")\n",
    "        archivo_ruta = os.path.join(datos, i)\n",
    "        print(\"ARHICO EN CONTRADO\", archivo_ruta)\n",
    "\n",
    "        df = "
   ]
  }
 ],
 "metadata": {
  "kernelspec": {
   "display_name": "Python 3",
   "language": "python",
   "name": "python3"
  },
  "language_info": {
   "codemirror_mode": {
    "name": "ipython",
    "version": 3
   },
   "file_extension": ".py",
   "mimetype": "text/x-python",
   "name": "python",
   "nbconvert_exporter": "python",
   "pygments_lexer": "ipython3",
   "version": "3.11.4"
  }
 },
 "nbformat": 4,
 "nbformat_minor": 2
}
