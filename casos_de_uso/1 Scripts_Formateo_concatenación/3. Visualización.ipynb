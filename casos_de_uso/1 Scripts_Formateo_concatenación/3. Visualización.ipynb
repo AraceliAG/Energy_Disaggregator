{
 "cells": [
  {
   "cell_type": "markdown",
   "metadata": {},
   "source": [
    "EN ESTE APARTADO OBSERVAREMOS LOS DISPOSITIVOS DISPONIBLES"
   ]
  },
  {
   "cell_type": "code",
   "execution_count": 1,
   "metadata": {},
   "outputs": [
    {
     "name": "stdout",
     "output_type": "stream",
     "text": [
      "DISPOSITIVOS DISPONIBLES: \n",
      " \n",
      "ventilador\n"
     ]
    }
   ],
   "source": [
    "import os\n",
    "\n",
    "# Especifica la ruta de la carpeta\n",
    "carpeta = 'datos_dispositivos_csv'\n",
    "\n",
    "# Lista todos los archivos y directorios en la carpeta\n",
    "contenido = os.listdir(carpeta)\n",
    "\n",
    "\n",
    "print(\"DISPOSITIVOS DISPONIBLES: \")\n",
    "print(\" \")\n",
    "# Imprime el contenido\n",
    "for elemento in contenido:\n",
    "    print(elemento)\n",
    "\n"
   ]
  },
  {
   "cell_type": "markdown",
   "metadata": {},
   "source": [
    "OBSERVAMOS QUE VARIABLES ESTÁN DISPONIBLES PARA LA VISUALIZACION DE DATOS DEL DISPOSITIVO DESEADO"
   ]
  },
  {
   "cell_type": "code",
   "execution_count": 2,
   "metadata": {},
   "outputs": [
    {
     "name": "stdout",
     "output_type": "stream",
     "text": [
      "ATRIBUTOS DISPONIBLES: \n",
      " \n",
      "ventilador_Corriente_Avg.csv\n"
     ]
    }
   ],
   "source": [
    "import pandas as pd\n",
    "\n",
    "\n",
    "dispositivo = 'ventilador' #ESTO ES APARTIR DE LOS DISPOSITIVOS DISPONIBLES EN EL BLOQUE ANTERIOR\n",
    "\n",
    "\n",
    "carpeta = f\"datos_dispositivos_csv/{dispositivo}\" #NO MOVER NADA AQUI\n",
    "# Lista todos los archivos y directorios en la carpeta\n",
    "contenido = os.listdir(carpeta)\n",
    "\n",
    "\n",
    "print(\"ATRIBUTOS DISPONIBLES: \")\n",
    "print(\" \")\n",
    "# Imprime el contenido\n",
    "for elemento in contenido:\n",
    "    print(elemento)"
   ]
  },
  {
   "cell_type": "markdown",
   "metadata": {},
   "source": [
    "OBSERVAR VISUALMENTE"
   ]
  },
  {
   "cell_type": "code",
   "execution_count": 3,
   "metadata": {},
   "outputs": [
    {
     "name": "stdout",
     "output_type": "stream",
     "text": [
      "                   fecha  Corriente_Avg\n",
      "0  2024-09-23_10-00-00.6       0.048690\n",
      "1  2024-09-23_10-00-01.4       0.056133\n",
      "2  2024-09-23_10-00-02.2       0.061567\n",
      "3    2024-09-23_10-00-03       0.055710\n",
      "4  2024-09-23_10-00-03.8       0.059351\n"
     ]
    }
   ],
   "source": [
    "import pandas as pd\n",
    "\n",
    "atributo = 'ventilador_Corriente_Avg'\n",
    "archivo_csv = f\"datos_dispositivos_csv/{dispositivo}/{atributo}.csv\" #NO MOVER NADA AQUI\n",
    "\n",
    "# Lee el archivo CSV\n",
    "datos = pd.read_csv(archivo_csv)\n",
    "\n",
    "# Muestra las primeras filas del DataFrame\n",
    "print(datos.head())  # Muestra las primeras 5 filas por defecto\n",
    "\n"
   ]
  },
  {
   "cell_type": "markdown",
   "metadata": {},
   "source": [
    "VISUALIZACION GENERAL CON TODAS LA FECHAS, EN EL SIGUIENTE BLOQUE SE ELIGE EL RANGO"
   ]
  },
  {
   "cell_type": "code",
   "execution_count": 4,
   "metadata": {},
   "outputs": [
    {
     "name": "stdout",
     "output_type": "stream",
     "text": [
      "                   fecha  Corriente_Avg\n",
      "0  2024-09-23_10-00-00.6       0.048690\n",
      "1  2024-09-23_10-00-01.4       0.056133\n",
      "2  2024-09-23_10-00-02.2       0.061567\n",
      "3    2024-09-23_10-00-03       0.055710\n",
      "4  2024-09-23_10-00-03.8       0.059351\n"
     ]
    },
    {
     "data": {
      "image/png": "[encoded data removed]",
      "text/plain": [
       "<Figure size 1000x500 with 1 Axes>"
      ]
     },
     "metadata": {},
     "output_type": "display_data"
    }
   ],
   "source": [
    "import pandas as pd\n",
    "import matplotlib.pyplot as plt\n",
    "datos = pd.read_csv(archivo_csv)\n",
    "\n",
    "# Muestra las primeras filas del DataFrame (opcional)\n",
    "print(datos.head())\n",
    "\n",
    "\n",
    "# Cambia 'Fecha' y 'Valor' por los nombres de las columnas que quieras graficar\n",
    "plt.figure(figsize=(10, 5))  # Cambia el tamaño de la figura si es necesario\n",
    "plt.plot(datos['fecha'], datos['Corriente_Avg'], marker='o')  # Cambia 'Valor' a la columna que desees graficar\n",
    "plt.title(dispositivo)  # Título de la gráfica\n",
    "plt.xlabel('Fecha')  # Etiqueta del eje X\n",
    "plt.ylabel('Valor')  # Etiqueta del eje Y\n",
    "plt.xticks(rotation=45)  # Rota las etiquetas del eje X si es necesario\n",
    "plt.grid()  # Muestra la cuadrícula\n",
    "plt.tight_layout()  # Ajusta el layout para que no se superpongan los elementos\n",
    "plt.show()  # Muestra la gráfica"
   ]
  },
  {
   "cell_type": "markdown",
   "metadata": {},
   "source": [
    "USO DE PARAMETROS FALTA CORREGIR"
   ]
  },
  {
   "cell_type": "code",
   "execution_count": null,
   "metadata": {},
   "outputs": [],
   "source": [
    "import pandas as pd\n",
    "import matplotlib.pyplot as plt\n",
    "\n",
    "# Especifica la ruta del archivo CSV\n",
    "archivo_csv = f\"datos_dispositivos_csv/{dispositivo}/{atributo}.csv\" #NO MOVER NADA AQUI\n",
    "\n",
    "# Lee el archivo CSV\n",
    "datos = pd.read_csv(archivo_csv)\n",
    "\n",
    "# Asegúrate de que la columna 'fecha' esté en formato de fecha\n",
    "datos['fecha'] = pd.to_datetime(datos['fecha'])\n",
    "\n",
    "# Muestra las primeras filas del DataFrame (opcional)\n",
    "print(datos.head())\n",
    "\n",
    "# Muestra la fecha de inicio y fin\n",
    "fecha_inicio = datos['fecha'].min()\n",
    "fecha_fin = datos['fecha'].max()\n",
    "print(f\"Fecha de inicio: {fecha_inicio}\")\n",
    "print(f\"Fecha de fin: {fecha_fin}\")\n",
    "\n",
    "# Solicita al usuario que ingrese las fechas de inicio y fin\n",
    "fecha_inicio_input = input(f\"Ingrese la fecha de inicio (formato YYYY-MM-DD) [por defecto: {fecha_inicio.date()}]: \") or str(fecha_inicio.date())\n",
    "fecha_fin_input = input(f\"Ingrese la fecha de fin (formato YYYY-MM-DD) [por defecto: {fecha_fin.date()}]: \") or str(fecha_fin.date())\n",
    "\n",
    "# Filtra los datos según las fechas ingresadas\n",
    "datos_filtrados = datos[(datos['fecha'] >= fecha_inicio_input) & (datos['fecha'] <= fecha_fin_input)]\n",
    "\n",
    "# Verifica si hay datos en el rango especificado\n",
    "if datos_filtrados.empty:\n",
    "    print(\"No hay datos en el rango de fechas especificado.\")\n",
    "else:\n",
    "    # Graficar los datos filtrados\n",
    "    plt.figure(figsize=(10, 5))\n",
    "    plt.plot(datos_filtrados['fecha'], datos_filtrados['Corriente_Avg'], marker='o')\n",
    "    plt.title('Datos de Corriente')\n",
    "    plt.xlabel('Fecha')\n",
    "    plt.ylabel('Corriente Promedio')\n",
    "    plt.xticks(rotation=45)\n",
    "    plt.grid()\n",
    "    plt.tight_layout()\n",
    "    plt.show()\n"
   ]
  }
 ],
 "metadata": {
  "kernelspec": {
   "display_name": "Python 3",
   "language": "python",
   "name": "python3"
  },
  "language_info": {
   "codemirror_mode": {
    "name": "ipython",
    "version": 3
   },
   "file_extension": ".py",
   "mimetype": "text/x-python",
   "name": "python",
   "nbconvert_exporter": "python",
   "pygments_lexer": "ipython3",
   "version": "3.12.3"
  }
 },
 "nbformat": 4,
 "nbformat_minor": 2
}
