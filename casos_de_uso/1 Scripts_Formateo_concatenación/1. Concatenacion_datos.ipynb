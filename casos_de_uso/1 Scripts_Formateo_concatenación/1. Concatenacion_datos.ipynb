{
 "cells": [
  {
   "cell_type": "markdown",
   "metadata": {},
   "source": [
    "CONCATENACION DE DISTINTOS VARIABLES DE NUESTROS TXT Y CONVERSIÓN A CSV PARA MEJOR MANIPULACIÓN\n",
    "\n",
    "En este punto simplemente concatenaremos las variables correspondientes de cada dispositivo en donde estos se guardaran en una carpeta con el nombre 'datos_dispositivos_csv'"
   ]
  },
  {
   "cell_type": "code",
   "execution_count": 5,
   "metadata": {},
   "outputs": [
    {
     "name": "stdout",
     "output_type": "stream",
     "text": [
      "Archivos concatenados y guardados en datos_dispositivos_csv/refrigerador/refrigerador_Potencia_aparente_Total.csv\n"
     ]
    }
   ],
   "source": [
    "import os\n",
    "import pandas as pd\n",
    "\n",
    "# OBTENER LA RUTA DEL DIRECTORIO ACTUAL DESDE DONDE SE EJECUTA EL SCRIPT\n",
    "script_dir = os.getcwd()\n",
    "\n",
    "# DEFINIR VARIABLES SOLO SE MODIFICAN ESTAS DOS VARIABLES LO DEMAS NO SE TOCA\n",
    "variable = 'Potencia_aparente_Total'  # AGREGA AQUÍ LA VARIABLE A CONCATENAR\n",
    "dispositivo = 'refrigerador'   # EL DISPOSITIVO DEL QUE PROVIENE PARA SABER QUE DISPOSITIVOS ESTÁN DISPONIBLES\n",
    "                                #REVISAR LA CARPETA datos_dispositivos\n",
    "                                \n",
    "                                \n",
    "\n",
    "# DEFINIR LA RUTA DE LA CARPETA DE DATOS RELATIVA AL DIRECTORIO ACTUAL\n",
    "carpeta_datos = os.path.join(script_dir, '..', 'datos_dispositivos', dispositivo, variable)\n",
    "\n",
    "# CREAR UNA LISTA VACÍA PARA ALMACENAR LOS DATAFRAMES\n",
    "dataframes = []\n",
    "\n",
    "# VERIFICAR SI LA RUTA Y LOS ARCHIVOS EXISTEN\n",
    "if not os.path.exists(carpeta_datos):\n",
    "    print(f\"La carpeta {carpeta_datos} no existe\")\n",
    "elif not os.listdir(carpeta_datos):\n",
    "    print(f\"La carpeta {carpeta_datos} está vacía o no contiene archivos .txt\")\n",
    "else:\n",
    "    # RECORRER TODOS LOS ARCHIVOS EN LA CARPETA DE DATOS\n",
    "    for archivo in os.listdir(carpeta_datos):\n",
    "        # VERIFICAR SI EL ARCHIVO TIENE EXTENSIÓN .TXT\n",
    "        if archivo.endswith('.txt'):\n",
    "            # LEER EL ARCHIVO TXT COMO UN DATAFRAME DE PANDAS\n",
    "            df = pd.read_csv(os.path.join(carpeta_datos, archivo), header=None)\n",
    "            # AGREGAR EL DATAFRAME A LA LISTA\n",
    "            dataframes.append(df)\n",
    "\n",
    "    # CONCATENAR TODOS LOS DATAFRAMES EN UNO SOLO\n",
    "    df_concatenado = pd.concat(dataframes, ignore_index=True)\n",
    "\n",
    "    # DEFINIR ENCABEZADOS PARA EL DATAFRAME\n",
    "    valor = f\"{variable}\"\n",
    "    df_concatenado.columns = ['fecha', valor]  # AGREGAR NOMBRES DE COLUMNAS\n",
    "\n",
    "    # DEFINIR LA RUTA DE SALIDA Y NOMBRE DEL ARCHIVO CSV\n",
    "    salida_csv = f\"datos_dispositivos_csv/{dispositivo}/{dispositivo}_{variable}.csv\"  # CAMBIA ESTA RUTA A TU RUTA ESPECÍFICA\n",
    "\n",
    "    # CREAR LA CARPETA DE SALIDA SI NO EXISTE\n",
    "    os.makedirs(os.path.dirname(salida_csv), exist_ok=True)\n",
    "\n",
    "    # GUARDAR EL DATAFRAME CONCATENADO COMO UN ARCHIVO CSV\n",
    "    df_concatenado.to_csv(salida_csv, index=False, header=True)  # AÑADIR ENCABEZADO EN EL CSV\n",
    "\n",
    "    # IMPRIMIR MENSAJE DE ÉXITO\n",
    "    print(f\"Archivos concatenados y guardados en {salida_csv}\")\n"
   ]
  },
  {
   "cell_type": "markdown",
   "metadata": {},
   "source": [
    "DESPUES QUE SE HAYA CONCATENADO LAS VARIABLES DE LOS DISPOSITIVOS QUE SE REQUIEREN,\n",
    "\n",
    " FAVOR DE PASAR AL PASO 2"
   ]
  }
 ],
 "metadata": {
  "kernelspec": {
   "display_name": "Python 3",
   "language": "python",
   "name": "python3"
  },
  "language_info": {
   "codemirror_mode": {
    "name": "ipython",
    "version": 3
   },
   "file_extension": ".py",
   "mimetype": "text/x-python",
   "name": "python",
   "nbconvert_exporter": "python",
   "pygments_lexer": "ipython3",
   "version": "3.12.3"
  }
 },
 "nbformat": 4,
 "nbformat_minor": 2
}
