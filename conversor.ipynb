{
 "cells": [
  {
   "cell_type": "markdown",
   "metadata": {},
   "source": [
    "concatenacion"
   ]
  },
  {
   "cell_type": "code",
   "execution_count": null,
   "metadata": {
    "vscode": {
     "languageId": "plaintext"
    }
   },
   "outputs": [],
   "source": [
    "import os\n",
    "import pandas as pd\n",
    "\n",
    "\n",
    "#\n",
    "\n",
    "dispositivo = 'ventilador' #CAMBIA AL DISPOSITIVO EL CUAL REQUIERES \n",
    "variable = 'Corriente_linea1' #CAMBIA LA VARIALE AL CUAL QUIERES CONCATENAR USALMENTE ES CORRIENTE\n",
    "\n",
    "\n",
    "\n",
    "directory = f\"Dispositivos/{dispositivo}/{variable}\"\n",
    "output_csv = f\"Dispositivos_CSV/{dispositivo}_{variable}.csv\" #NO CAMBIAR ES LA RUTA DE SALIDA\n",
    "\n",
    "\n",
    "\n",
    "def concat_txt_to_csv(directory, output_csv):\n",
    "    # Lista para almacenar los datos de todos los archivos\n",
    "    data_frames = []\n",
    "    \n",
    "    # ITERAR SOBRE LOS ARCHIVO DE LA CARPETA\n",
    "    for file in os.listdir(directory):\n",
    "        if file.endswith(\".txt\"):\n",
    "            file_path = os.path.join(directory, file)\n",
    "            print(f\"Leyendo archivo: {file_path}\")\n",
    "            \n",
    "            # LEER CADA ARCHIVOS TXT EN UN DATAFRAME\n",
    "            df = pd.read_csv(file_path, header=None)  # Ajusta el delimitador si es necesario\n",
    "            data_frames.append(df)\n",
    "    \n",
    "    # CONCATENAR TODOS LOS ARCHIVOS ES UNO \n",
    "    combined_df = pd.concat(data_frames, ignore_index=True)\n",
    "    \n",
    "    # GUARDAR DATA FRAME Y GUARDARLO EN UN CSV\n",
    "    combined_df.to_csv(output_csv, index=False, header=False)\n",
    "    print(f\"Archivos concatenados guardados en: {output_csv}\")\n",
    "\n",
    "concat_txt_to_csv(directory, output_csv)\n"
   ]
  },
  {
   "cell_type": "markdown",
   "metadata": {},
   "source": [
    "Dos conversores dependiedo el formato de tu csv"
   ]
  },
  {
   "cell_type": "code",
   "execution_count": null,
   "metadata": {
    "vscode": {
     "languageId": "plaintext"
    }
   },
   "outputs": [],
   "source": [
    "import pandas as pd\n",
    "\n",
    "\n",
    "# Cargar los datos desde un archivo CSV (ajusta la ruta si es necesario)\n",
    "data = pd.read_csv(f\"Dispositivos_CSV/{dispositivo}_{variable}.csv\")\n",
    "\n",
    "# Eliminar los microsegundos (elimina la parte después del último punto)\n",
    "data['fecha'] = data['fecha'].str.replace(r'\\.\\d+$', '', regex=True)\n",
    "\n",
    "# Reemplazar los guiones por dos puntos en la parte de la hora (solo los últimos dos guiones)\n",
    "data['fecha'] = data['fecha'].str.replace('_', ' ')\n",
    "\n",
    "# Convertir la columna 'fecha' a formato datetime, usando %S para segundos y %f para microsegundos\n",
    "data['fecha'] = pd.to_datetime(data['fecha'], format='%Y-%m-%d %H:%M:%S')\n",
    "\n",
    "# Guardar el resultado en un nuevo archivo CSV\n",
    "data.to_csv(f\"Dispositivos_Entrenamiento/{dispositivo}_Entrenamiento.csv\", index=False)"
   ]
  },
  {
   "cell_type": "code",
   "execution_count": null,
   "metadata": {
    "vscode": {
     "languageId": "plaintext"
    }
   },
   "outputs": [],
   "source": [
    "import pandas as pd\n",
    "\n",
    "\n",
    "# Cargar los datos desde un archivo CSV (ajusta la ruta si es necesario)\n",
    "data = pd.read_csv(f\"Dispositivos_CSV/{dispositivo}_{variable}.csv\")\n",
    "\n",
    "# Eliminar los microsegundos (elimina la parte después del último punto)\n",
    "data['fecha'] = data['fecha'].str.replace(r'\\.\\d+$', '', regex=True)\n",
    "\n",
    "# Reemplazar los guiones por dos puntos en la parte de la hora (solo los últimos dos guiones)\n",
    "data['fecha'] = data['fecha'].str.replace(r'(\\d{2})-(\\d{2})-(\\d{1,2})$', r'\\1:\\2:\\3', regex=True)\n",
    "\n",
    "# Convertir la columna 'fecha' a formato datetime, usando %S para segundos y %f para microsegundos\n",
    "data['fecha'] = pd.to_datetime(data['fecha'], format='%Y-%m-%d %H:%M:%S')\n",
    "\n",
    "# Guardar el resultado en un nuevo archivo CSV\n",
    "data.to_csv(f\"Dispositivos_Entrenamiento/{dispositivo}_Entrenamiento.csv\", index=False)"
   ]
  },
  {
   "cell_type": "code",
   "execution_count": null,
   "metadata": {
    "vscode": {
     "languageId": "plaintext"
    }
   },
   "outputs": [],
   "source": []
  }
 ],
 "metadata": {
  "language_info": {
   "name": "python"
  }
 },
 "nbformat": 4,
 "nbformat_minor": 2
}
