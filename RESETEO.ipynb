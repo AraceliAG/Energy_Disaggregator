{
 "cells": [
  {
   "cell_type": "markdown",
   "metadata": {},
   "source": [
    "RESETEAR TODO PARA INICIAR DE NUEVO"
   ]
  },
  {
   "cell_type": "code",
   "execution_count": 1,
   "metadata": {},
   "outputs": [
    {
     "name": "stdout",
     "output_type": "stream",
     "text": [
      "Carpeta 'Dispositivos_CSV' vaciada exitosamente.\n",
      "Carpeta 'Dispositivos_Entrenamiento' vaciada exitosamente.\n"
     ]
    }
   ],
   "source": [
    "import os\n",
    "import shutil\n",
    "\n",
    "def vaciar_carpeta(carpeta):\n",
    "    # Verifica si la carpeta existe\n",
    "    if os.path.exists(carpeta):\n",
    "        # Recorre todos los archivos y carpetas dentro de la carpeta\n",
    "        for archivo in os.listdir(carpeta):\n",
    "            archivo_path = os.path.join(carpeta, archivo)\n",
    "            try:\n",
    "                # Si es un archivo, lo elimina\n",
    "                if os.path.isfile(archivo_path) or os.path.islink(archivo_path):\n",
    "                    os.remove(archivo_path)\n",
    "                # Si es una carpeta, la elimina y todo su contenido\n",
    "                elif os.path.isdir(archivo_path):\n",
    "                    shutil.rmtree(archivo_path)\n",
    "            except Exception as e:\n",
    "                print(f'Error eliminando {archivo_path}. Razón: {e}')\n",
    "        print(f\"Carpeta '{carpeta}' vaciada exitosamente.\")\n",
    "    else:\n",
    "        print(f\"La carpeta '{carpeta}' no existe.\")\n",
    "\n",
    "# Especifica las carpetas que quieres vaciar\n",
    "carpetas = ['Dispositivos_CSV', 'Dispositivos_Entrenamiento']\n",
    "\n",
    "# Llama a la función para cada carpeta\n",
    "for carpeta in carpetas:\n",
    "    vaciar_carpeta(carpeta)\n"
   ]
  },
  {
   "cell_type": "code",
   "execution_count": 2,
   "metadata": {},
   "outputs": [
    {
     "name": "stdout",
     "output_type": "stream",
     "text": [
      "Archivo 'Datos_generales_Corriente_linea1.csv' eliminado.\n",
      "Archivo 'Dispositivos_entrenamiento.csv' eliminado.\n",
      "Archivo 'Predicciones.csv' eliminado.\n",
      "Archivos especificados eliminados en el directorio actual.\n"
     ]
    }
   ],
   "source": [
    "import os\n",
    "\n",
    "def eliminar_archivos_especificos(archivos_a_eliminar):\n",
    "    # Obtiene el directorio actual\n",
    "    carpeta_actual = os.getcwd()\n",
    "    \n",
    "    # Recorre los archivos en el directorio actual\n",
    "    for archivo in os.listdir(carpeta_actual):\n",
    "        archivo_path = os.path.join(carpeta_actual, archivo)\n",
    "        try:\n",
    "            # Verifica si el archivo está en la lista de archivos a eliminar\n",
    "            if archivo in archivos_a_eliminar:\n",
    "                if os.path.isfile(archivo_path) or os.path.islink(archivo_path):\n",
    "                    os.remove(archivo_path)\n",
    "                    print(f\"Archivo '{archivo}' eliminado.\")\n",
    "                # Si es una carpeta, la elimina (aunque en este caso mencionaste que son archivos)\n",
    "                elif os.path.isdir(archivo_path):\n",
    "                    shutil.rmtree(archivo_path)\n",
    "                    print(f\"Carpeta '{archivo}' eliminada.\")\n",
    "        except Exception as e:\n",
    "            print(f'Error eliminando {archivo_path}. Razón: {e}')\n",
    "    \n",
    "    print(\"Archivos especificados eliminados en el directorio actual.\")\n",
    "\n",
    "# Especifica los archivos a eliminar\n",
    "archivos_a_eliminar = [\n",
    "    'Datos_generales_Corriente_linea1.csv', \n",
    "    'Predicciones.csv',\n",
    "    'Dispositivos_entrenamiento.csv'\n",
    "]\n",
    "\n",
    "# Llama a la función\n",
    "eliminar_archivos_especificos(archivos_a_eliminar)\n"
   ]
  }
 ],
 "metadata": {
  "kernelspec": {
   "display_name": "Python 3",
   "language": "python",
   "name": "python3"
  },
  "language_info": {
   "codemirror_mode": {
    "name": "ipython",
    "version": 3
   },
   "file_extension": ".py",
   "mimetype": "text/x-python",
   "name": "python",
   "nbconvert_exporter": "python",
   "pygments_lexer": "ipython3",
   "version": "3.11.4"
  }
 },
 "nbformat": 4,
 "nbformat_minor": 2
}
