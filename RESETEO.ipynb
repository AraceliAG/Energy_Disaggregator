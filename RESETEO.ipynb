{
 "cells": [
  {
   "cell_type": "markdown",
   "metadata": {},
   "source": [
    "RESETEAR TODO PARA INICIAR DE NUEVO"
   ]
  },
  {
   "cell_type": "code",
   "execution_count": null,
   "metadata": {},
   "outputs": [],
   "source": [
    "import os\n",
    "import shutil\n",
    "\n",
    "def vaciar_carpeta(carpeta):\n",
    "    # Verifica si la carpeta existe\n",
    "    if os.path.exists(carpeta):\n",
    "        # Recorre todos los archivos y carpetas dentro de la carpeta\n",
    "        for archivo in os.listdir(carpeta):\n",
    "            archivo_path = os.path.join(carpeta, archivo)\n",
    "            try:\n",
    "                # Si es un archivo, lo elimina\n",
    "                if os.path.isfile(archivo_path) or os.path.islink(archivo_path):\n",
    "                    os.remove(archivo_path)\n",
    "                # Si es una carpeta, la elimina y todo su contenido\n",
    "                elif os.path.isdir(archivo_path):\n",
    "                    shutil.rmtree(archivo_path)\n",
    "            except Exception as e:\n",
    "                print(f'Error eliminando {archivo_path}. Razón: {e}')\n",
    "        print(f\"Carpeta '{carpeta}' vaciada exitosamente.\")\n",
    "    else:\n",
    "        print(f\"La carpeta '{carpeta}' no existe.\")\n",
    "\n",
    "# Especifica las carpetas que quieres vaciar\n",
    "carpetas = ['Dispositivos_CSV', 'Dispositivos_Entrenamiento']\n",
    "\n",
    "# Llama a la función para cada carpeta\n",
    "for carpeta in carpetas:\n",
    "    vaciar_carpeta(carpeta)\n"
   ]
  }
 ],
 "metadata": {
  "language_info": {
   "name": "python"
  }
 },
 "nbformat": 4,
 "nbformat_minor": 2
}
