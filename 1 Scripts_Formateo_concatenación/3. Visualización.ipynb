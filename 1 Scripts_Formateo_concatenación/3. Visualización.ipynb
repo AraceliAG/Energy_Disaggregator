{
 "cells": [
  {
   "cell_type": "markdown",
   "metadata": {},
   "source": [
    "EN ESTE APARTADO OBSERVAREMOS LOS DISPOSITIVOS DISPONIBLES"
   ]
  },
  {
   "cell_type": "code",
   "execution_count": 2,
   "metadata": {},
   "outputs": [
    {
     "name": "stdout",
     "output_type": "stream",
     "text": [
      "DISPOSITIVOS DISPONIBLES: \n",
      " \n",
      "ventilador\n"
     ]
    }
   ],
   "source": [
    "import os\n",
    "\n",
    "# Especifica la ruta de la carpeta\n",
    "carpeta = 'datos_dispositivos_csv'\n",
    "\n",
    "# Lista todos los archivos y directorios en la carpeta\n",
    "contenido = os.listdir(carpeta)\n",
    "\n",
    "\n",
    "print(\"DISPOSITIVOS DISPONIBLES: \")\n",
    "print(\" \")\n",
    "# Imprime el contenido\n",
    "for elemento in contenido:\n",
    "    print(elemento)\n",
    "\n"
   ]
  },
  {
   "cell_type": "markdown",
   "metadata": {},
   "source": [
    "OBSERVAMOS QUE VARIABLES ESTÁN DISPONIBLES PARA LA VISUALIZACION DE DATOS DEL DISPOSITIVO DESEADO"
   ]
  },
  {
   "cell_type": "code",
   "execution_count": 3,
   "metadata": {},
   "outputs": [
    {
     "name": "stdout",
     "output_type": "stream",
     "text": [
      "ATRIBUTOS DISPONIBLES: \n",
      " \n",
      "ventilador_Corriente_AVG.csv\n"
     ]
    }
   ],
   "source": [
    "import pandas as pd\n",
    "\n",
    "\n",
    "dispositivo = 'ventilador' #ESTO ES APARTIR DE LOS DISPOSITIVOS DISPONIBLES EN EL BLOQUE ANTERIOR\n",
    "\n",
    "\n",
    "carpeta = f\"datos_dispositivos_csv/{dispositivo}\" #NO MOVER NADA AQUI\n",
    "# Lista todos los archivos y directorios en la carpeta\n",
    "contenido = os.listdir(carpeta)\n",
    "\n",
    "\n",
    "print(\"ATRIBUTOS DISPONIBLES: \")\n",
    "print(\" \")\n",
    "# Imprime el contenido\n",
    "for elemento in contenido:\n",
    "    print(elemento)"
   ]
  },
  {
   "cell_type": "markdown",
   "metadata": {},
   "source": [
    "OBSERVAR VISUALMENTE"
   ]
  },
  {
   "cell_type": "code",
   "execution_count": 4,
   "metadata": {},
   "outputs": [
    {
     "name": "stdout",
     "output_type": "stream",
     "text": [
      "                  fecha  Corriente_AVG\n",
      "0  2024-09-23_10:00:0.6       0.048690\n",
      "1  2024-09-23_10:00:1.4       0.056133\n",
      "2  2024-09-23_10:00:2.2       0.061567\n",
      "3  2024-09-23_10:00:3.0       0.055710\n",
      "4  2024-09-23_10:00:3.8       0.059351\n"
     ]
    }
   ],
   "source": [
    "import pandas as pd\n",
    "\n",
    "atributo = 'ventilador_Corriente_Avg'\n",
    "archivo_csv = f\"datos_dispositivos_csv/{dispositivo}/{atributo}.csv\" #NO MOVER NADA AQUI\n",
    "\n",
    "# Lee el archivo CSV\n",
    "datos = pd.read_csv(archivo_csv)\n",
    "\n",
    "# Muestra las primeras filas del DataFrame\n",
    "print(datos.head())  # Muestra las primeras 5 filas por defecto\n",
    "\n"
   ]
  },
  {
   "cell_type": "markdown",
   "metadata": {},
   "source": [
    "VISUALIZACION GENERAL CON TODAS LA FECHAS, EN EL SIGUIENTE BLOQUE SE ELIGE EL RANGO"
   ]
  },
  {
   "cell_type": "code",
   "execution_count": 7,
   "metadata": {},
   "outputs": [
    {
     "name": "stdout",
     "output_type": "stream",
     "text": [
      "                  fecha  Corriente_AVG\n",
      "0  2024-09-23_10:00:0.6       0.048690\n",
      "1  2024-09-23_10:00:1.4       0.056133\n",
      "2  2024-09-23_10:00:2.2       0.061567\n",
      "3  2024-09-23_10:00:3.0       0.055710\n",
      "4  2024-09-23_10:00:3.8       0.059351\n"
     ]
    },
    {
     "ename": "KeyError",
     "evalue": "'Corriente_Avg'",
     "output_type": "error",
     "traceback": [
      "\u001b[1;31m---------------------------------------------------------------------------\u001b[0m",
      "\u001b[1;31mKeyError\u001b[0m                                  Traceback (most recent call last)",
      "File \u001b[1;32mc:\\Users\\cesar chavez\\anaconda3\\Lib\\site-packages\\pandas\\core\\indexes\\base.py:3805\u001b[0m, in \u001b[0;36mIndex.get_loc\u001b[1;34m(self, key)\u001b[0m\n\u001b[0;32m   3804\u001b[0m \u001b[38;5;28;01mtry\u001b[39;00m:\n\u001b[1;32m-> 3805\u001b[0m     \u001b[38;5;28;01mreturn\u001b[39;00m \u001b[38;5;28;43mself\u001b[39;49m\u001b[38;5;241;43m.\u001b[39;49m\u001b[43m_engine\u001b[49m\u001b[38;5;241;43m.\u001b[39;49m\u001b[43mget_loc\u001b[49m\u001b[43m(\u001b[49m\u001b[43mcasted_key\u001b[49m\u001b[43m)\u001b[49m\n\u001b[0;32m   3806\u001b[0m \u001b[38;5;28;01mexcept\u001b[39;00m \u001b[38;5;167;01mKeyError\u001b[39;00m \u001b[38;5;28;01mas\u001b[39;00m err:\n",
      "File \u001b[1;32mindex.pyx:167\u001b[0m, in \u001b[0;36mpandas._libs.index.IndexEngine.get_loc\u001b[1;34m()\u001b[0m\n",
      "File \u001b[1;32mindex.pyx:196\u001b[0m, in \u001b[0;36mpandas._libs.index.IndexEngine.get_loc\u001b[1;34m()\u001b[0m\n",
      "File \u001b[1;32mpandas\\\\_libs\\\\hashtable_class_helper.pxi:7081\u001b[0m, in \u001b[0;36mpandas._libs.hashtable.PyObjectHashTable.get_item\u001b[1;34m()\u001b[0m\n",
      "File \u001b[1;32mpandas\\\\_libs\\\\hashtable_class_helper.pxi:7089\u001b[0m, in \u001b[0;36mpandas._libs.hashtable.PyObjectHashTable.get_item\u001b[1;34m()\u001b[0m\n",
      "\u001b[1;31mKeyError\u001b[0m: 'Corriente_Avg'",
      "\nThe above exception was the direct cause of the following exception:\n",
      "\u001b[1;31mKeyError\u001b[0m                                  Traceback (most recent call last)",
      "Cell \u001b[1;32mIn[7], line 11\u001b[0m\n\u001b[0;32m      9\u001b[0m \u001b[38;5;66;03m# Cambia 'Fecha' y 'Valor' por los nombres de las columnas que quieras graficar\u001b[39;00m\n\u001b[0;32m     10\u001b[0m plt\u001b[38;5;241m.\u001b[39mfigure(figsize\u001b[38;5;241m=\u001b[39m(\u001b[38;5;241m10\u001b[39m, \u001b[38;5;241m5\u001b[39m))  \u001b[38;5;66;03m# Cambia el tamaño de la figura si es necesario\u001b[39;00m\n\u001b[1;32m---> 11\u001b[0m plt\u001b[38;5;241m.\u001b[39mplot(datos[\u001b[38;5;124m'\u001b[39m\u001b[38;5;124mfecha\u001b[39m\u001b[38;5;124m'\u001b[39m], \u001b[43mdatos\u001b[49m\u001b[43m[\u001b[49m\u001b[38;5;124;43m'\u001b[39;49m\u001b[38;5;124;43mCorriente_Avg\u001b[39;49m\u001b[38;5;124;43m'\u001b[39;49m\u001b[43m]\u001b[49m, marker\u001b[38;5;241m=\u001b[39m\u001b[38;5;124m'\u001b[39m\u001b[38;5;124mo\u001b[39m\u001b[38;5;124m'\u001b[39m)  \u001b[38;5;66;03m# Cambia 'Valor' a la columna que desees graficar\u001b[39;00m\n\u001b[0;32m     12\u001b[0m plt\u001b[38;5;241m.\u001b[39mtitle(dispositivo)  \u001b[38;5;66;03m# Título de la gráfica\u001b[39;00m\n\u001b[0;32m     13\u001b[0m plt\u001b[38;5;241m.\u001b[39mxlabel(\u001b[38;5;124m'\u001b[39m\u001b[38;5;124mFecha\u001b[39m\u001b[38;5;124m'\u001b[39m)  \u001b[38;5;66;03m# Etiqueta del eje X\u001b[39;00m\n",
      "File \u001b[1;32mc:\\Users\\cesar chavez\\anaconda3\\Lib\\site-packages\\pandas\\core\\frame.py:4102\u001b[0m, in \u001b[0;36mDataFrame.__getitem__\u001b[1;34m(self, key)\u001b[0m\n\u001b[0;32m   4100\u001b[0m \u001b[38;5;28;01mif\u001b[39;00m \u001b[38;5;28mself\u001b[39m\u001b[38;5;241m.\u001b[39mcolumns\u001b[38;5;241m.\u001b[39mnlevels \u001b[38;5;241m>\u001b[39m \u001b[38;5;241m1\u001b[39m:\n\u001b[0;32m   4101\u001b[0m     \u001b[38;5;28;01mreturn\u001b[39;00m \u001b[38;5;28mself\u001b[39m\u001b[38;5;241m.\u001b[39m_getitem_multilevel(key)\n\u001b[1;32m-> 4102\u001b[0m indexer \u001b[38;5;241m=\u001b[39m \u001b[38;5;28;43mself\u001b[39;49m\u001b[38;5;241;43m.\u001b[39;49m\u001b[43mcolumns\u001b[49m\u001b[38;5;241;43m.\u001b[39;49m\u001b[43mget_loc\u001b[49m\u001b[43m(\u001b[49m\u001b[43mkey\u001b[49m\u001b[43m)\u001b[49m\n\u001b[0;32m   4103\u001b[0m \u001b[38;5;28;01mif\u001b[39;00m is_integer(indexer):\n\u001b[0;32m   4104\u001b[0m     indexer \u001b[38;5;241m=\u001b[39m [indexer]\n",
      "File \u001b[1;32mc:\\Users\\cesar chavez\\anaconda3\\Lib\\site-packages\\pandas\\core\\indexes\\base.py:3812\u001b[0m, in \u001b[0;36mIndex.get_loc\u001b[1;34m(self, key)\u001b[0m\n\u001b[0;32m   3807\u001b[0m     \u001b[38;5;28;01mif\u001b[39;00m \u001b[38;5;28misinstance\u001b[39m(casted_key, \u001b[38;5;28mslice\u001b[39m) \u001b[38;5;129;01mor\u001b[39;00m (\n\u001b[0;32m   3808\u001b[0m         \u001b[38;5;28misinstance\u001b[39m(casted_key, abc\u001b[38;5;241m.\u001b[39mIterable)\n\u001b[0;32m   3809\u001b[0m         \u001b[38;5;129;01mand\u001b[39;00m \u001b[38;5;28many\u001b[39m(\u001b[38;5;28misinstance\u001b[39m(x, \u001b[38;5;28mslice\u001b[39m) \u001b[38;5;28;01mfor\u001b[39;00m x \u001b[38;5;129;01min\u001b[39;00m casted_key)\n\u001b[0;32m   3810\u001b[0m     ):\n\u001b[0;32m   3811\u001b[0m         \u001b[38;5;28;01mraise\u001b[39;00m InvalidIndexError(key)\n\u001b[1;32m-> 3812\u001b[0m     \u001b[38;5;28;01mraise\u001b[39;00m \u001b[38;5;167;01mKeyError\u001b[39;00m(key) \u001b[38;5;28;01mfrom\u001b[39;00m \u001b[38;5;21;01merr\u001b[39;00m\n\u001b[0;32m   3813\u001b[0m \u001b[38;5;28;01mexcept\u001b[39;00m \u001b[38;5;167;01mTypeError\u001b[39;00m:\n\u001b[0;32m   3814\u001b[0m     \u001b[38;5;66;03m# If we have a listlike key, _check_indexing_error will raise\u001b[39;00m\n\u001b[0;32m   3815\u001b[0m     \u001b[38;5;66;03m#  InvalidIndexError. Otherwise we fall through and re-raise\u001b[39;00m\n\u001b[0;32m   3816\u001b[0m     \u001b[38;5;66;03m#  the TypeError.\u001b[39;00m\n\u001b[0;32m   3817\u001b[0m     \u001b[38;5;28mself\u001b[39m\u001b[38;5;241m.\u001b[39m_check_indexing_error(key)\n",
      "\u001b[1;31mKeyError\u001b[0m: 'Corriente_Avg'"
     ]
    },
    {
     "data": {
      "text/plain": [
       "<Figure size 1000x500 with 0 Axes>"
      ]
     },
     "metadata": {},
     "output_type": "display_data"
    }
   ],
   "source": [
    "import pandas as pd\n",
    "import matplotlib.pyplot as plt\n",
    "datos = pd.read_csv(archivo_csv)\n",
    "\n",
    "# Muestra las primeras filas del DataFrame (opcional)\n",
    "print(datos.head())\n",
    "\n",
    "\n",
    "# Cambia 'Fecha' y 'Valor' por los nombres de las columnas que quieras graficar\n",
    "plt.figure(figsize=(10, 5))  # Cambia el tamaño de la figura si es necesario\n",
    "plt.plot(datos['fecha'], datos['Corriente_Avg'], marker='o')  # Cambia 'Valor' a la columna que desees graficar\n",
    "plt.title(dispositivo)  # Título de la gráfica\n",
    "plt.xlabel('Fecha')  # Etiqueta del eje X\n",
    "plt.ylabel('Valor')  # Etiqueta del eje Y\n",
    "plt.xticks(rotation=45)  # Rota las etiquetas del eje X si es necesario\n",
    "plt.grid()  # Muestra la cuadrícula\n",
    "plt.tight_layout()  # Ajusta el layout para que no se superpongan los elementos\n",
    "plt.show()  # Muestra la gráfica"
   ]
  },
  {
   "cell_type": "markdown",
   "metadata": {},
   "source": [
    "USO DE PARAMETROS FALTA CORREGIR"
   ]
  },
  {
   "cell_type": "code",
   "execution_count": null,
   "metadata": {},
   "outputs": [],
   "source": [
    "import pandas as pd\n",
    "import matplotlib.pyplot as plt\n",
    "\n",
    "# Especifica la ruta del archivo CSV\n",
    "archivo_csv = f\"datos_dispositivos_csv/{dispositivo}/{atributo}.csv\" #NO MOVER NADA AQUI\n",
    "\n",
    "# Lee el archivo CSV\n",
    "datos = pd.read_csv(archivo_csv)\n",
    "\n",
    "# Asegúrate de que la columna 'fecha' esté en formato de fecha\n",
    "datos['fecha'] = pd.to_datetime(datos['fecha'])\n",
    "\n",
    "# Muestra las primeras filas del DataFrame (opcional)\n",
    "print(datos.head())\n",
    "\n",
    "# Muestra la fecha de inicio y fin\n",
    "fecha_inicio = datos['fecha'].min()\n",
    "fecha_fin = datos['fecha'].max()\n",
    "print(f\"Fecha de inicio: {fecha_inicio}\")\n",
    "print(f\"Fecha de fin: {fecha_fin}\")\n",
    "\n",
    "# Solicita al usuario que ingrese las fechas de inicio y fin\n",
    "fecha_inicio_input = input(f\"Ingrese la fecha de inicio (formato YYYY-MM-DD) [por defecto: {fecha_inicio.date()}]: \") or str(fecha_inicio.date())\n",
    "fecha_fin_input = input(f\"Ingrese la fecha de fin (formato YYYY-MM-DD) [por defecto: {fecha_fin.date()}]: \") or str(fecha_fin.date())\n",
    "\n",
    "# Filtra los datos según las fechas ingresadas\n",
    "datos_filtrados = datos[(datos['fecha'] >= fecha_inicio_input) & (datos['fecha'] <= fecha_fin_input)]\n",
    "\n",
    "# Verifica si hay datos en el rango especificado\n",
    "if datos_filtrados.empty:\n",
    "    print(\"No hay datos en el rango de fechas especificado.\")\n",
    "else:\n",
    "    # Graficar los datos filtrados\n",
    "    plt.figure(figsize=(10, 5))\n",
    "    plt.plot(datos_filtrados['fecha'], datos_filtrados['Corriente_Avg'], marker='o')\n",
    "    plt.title('Datos de Corriente')\n",
    "    plt.xlabel('Fecha')\n",
    "    plt.ylabel('Corriente Promedio')\n",
    "    plt.xticks(rotation=45)\n",
    "    plt.grid()\n",
    "    plt.tight_layout()\n",
    "    plt.show()\n"
   ]
  }
 ],
 "metadata": {
  "kernelspec": {
   "display_name": "Python 3",
   "language": "python",
   "name": "python3"
  },
  "language_info": {
   "codemirror_mode": {
    "name": "ipython",
    "version": 3
   },
   "file_extension": ".py",
   "mimetype": "text/x-python",
   "name": "python",
   "nbconvert_exporter": "python",
   "pygments_lexer": "ipython3",
   "version": "3.12.3"
  }
 },
 "nbformat": 4,
 "nbformat_minor": 2
}
