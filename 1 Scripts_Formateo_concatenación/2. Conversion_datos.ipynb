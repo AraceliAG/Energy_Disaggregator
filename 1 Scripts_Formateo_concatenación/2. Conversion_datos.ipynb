{
 "cells": [
  {
   "cell_type": "markdown",
   "metadata": {},
   "source": [
    "CONVERSION DATOS PARA FECHAS\n",
    "\n",
    "Corrección de formatos tipo datatime, esto para tener un mejor control de fechas"
   ]
  },
  {
   "cell_type": "code",
   "execution_count": 15,
   "metadata": {},
   "outputs": [
    {
     "name": "stdout",
     "output_type": "stream",
     "text": [
      "Contenido original del archivo:\n",
      "                  fecha  Corriente_Avg\n",
      "0  2024-09-23_10:00:0.6       0.048690\n",
      "1  2024-09-23_10:00:1.4       0.056133\n",
      "2  2024-09-23_10:00:2.2       0.061567\n",
      "3  2024-09-23_10:00:3.0       0.055710\n",
      "4  2024-09-23_10:00:3.8       0.059351\n",
      " \n",
      "IMPORTANTE OBSERVAR EL FORMATO DE TUDATETIME ACTUAL, A PARTIR DE ELLO MODIFIMA EL FORMATO ORIGINAL!!!\n"
     ]
    }
   ],
   "source": [
    "#EL FORMATO EL CUAL TOMAREMOS EN CONSIDERACIÓN SERÁ %y-%m-%d_%H-%M-%S\n",
    "\n",
    "import pandas as pd\n",
    "\n",
    "\n",
    "dispositivo = 'ventilador' #ESPECIFICA EL DISPOSITIVO\n",
    "variable = 'Corriente_Avg' #ESPECIFICA VARIABLE\n",
    "# RUTA DE ARCHIVO CONCATENADO\n",
    "ruta_archivo = f\"datos_dispositivos_csv/{dispositivo}/{dispositivo}_{variable}.csv\"\n",
    "\n",
    "\n",
    "formato_original = '%Y-%m-%d_%H:%M:%S.%f'  # CAMBIAR AL FORMTATO QUE SE ENCUENTRAN EN TUS DATOS EXTRAÍDOS\n",
    "formato_deseado = '%Y-%m-%d_%H-%M-%S.%f'  # FROMATO DESEADO\n",
    "\n",
    "# CARGAR EL ARCHIVO\n",
    "df = pd.read_csv(ruta_archivo)\n",
    "\n",
    "# VERIFICAMOS SIMPLEMENTE EL CONTENIDO QUE SE ENCUENTRA\n",
    "print(\"Contenido original del archivo:\")\n",
    "print(df.head())\n",
    "\n",
    "print(\" \")\n",
    "print(\"IMPORTANTE OBSERVAR EL FORMATO DE TUDATETIME ACTUAL, A PARTIR DE ELLO MODIFIMA EL FORMATO ORIGINAL!!!\")\n",
    "\n"
   ]
  },
  {
   "cell_type": "code",
   "execution_count": 16,
   "metadata": {},
   "outputs": [
    {
     "name": "stdout",
     "output_type": "stream",
     "text": [
      "Número de fechas no convertidas: 0\n",
      "Formato de fechas actualizado en el archivo CSV.\n"
     ]
    }
   ],
   "source": [
    "# CONVERTIMOS LA FECHA A TIPO DATETIME PARA CONERSTIRLO EN EL FORMATO REQUERRIDO\n",
    "df['fecha'] = pd.to_datetime(df['fecha'], format=formato_original, errors='coerce')\n",
    "\n",
    "# VERIFICACION DE FECHA EN DONDE SE MOSTRARÁ LAS FECHAS QUE NO TUVIERON ÉXITO AL MOMENTO DE REALIZAR LA CONVERSIÓN\n",
    "print(f\"Número de fechas no convertidas: {df['fecha'].isna().sum()}\")\n",
    "\n",
    "# AQUI SIMPLEMENTE HACEMOS EL CAMBIO\n",
    "df['fecha'] = df['fecha'].dt.strftime(formato_deseado)\n",
    "\n",
    "# ELIMINAR LOS CEROS FINALES Y EL PUNTO DECIMAL SI ES NECESARIO\n",
    "df['fecha'] = df['fecha'].str.rstrip('0').str.rstrip('.')\n",
    "\n",
    "# GUARDAMOS ARCHIVO\n",
    "df.to_csv(ruta_archivo, index=False)\n",
    "\n",
    "print(\"Formato de fechas actualizado en el archivo CSV.\")"
   ]
  },
  {
   "cell_type": "markdown",
   "metadata": {},
   "source": [
    "DESPUÉS DE QUE YA HAYAS ACTUALIZADO LOS DATOS CORRESPONDIENTES PASA AL SIGUIENTE PUNTO"
   ]
  }
 ],
 "metadata": {
  "kernelspec": {
   "display_name": "Python 3",
   "language": "python",
   "name": "python3"
  },
  "language_info": {
   "codemirror_mode": {
    "name": "ipython",
    "version": 3
   },
   "file_extension": ".py",
   "mimetype": "text/x-python",
   "name": "python",
   "nbconvert_exporter": "python",
   "pygments_lexer": "ipython3",
   "version": "3.11.4"
  }
 },
 "nbformat": 4,
 "nbformat_minor": 2
}
