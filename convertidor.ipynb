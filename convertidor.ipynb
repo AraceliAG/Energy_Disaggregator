{
 "cells": [
  {
   "cell_type": "code",
   "execution_count": 2,
   "metadata": {},
   "outputs": [
    {
     "name": "stdout",
     "output_type": "stream",
     "text": [
      "Conversión completada.\n"
     ]
    }
   ],
   "source": [
    "# -*- coding: utf-8 -*-\n",
    "\"\"\"\n",
    "Created on Mon Aug 19 12:26:12 2024\n",
    "\n",
    "@author: luis a\n",
    "\"\"\"\n",
    "\n",
    "import csv\n",
    "import os\n",
    "\n",
    "# Ruta a la carpeta principal que contiene las subcarpetas con archivos .txt\n",
    "ubicacionPrincipal = \"nuevos datos/corriente_linea1\"\n",
    "\n",
    "\n",
    "def leer_txt_y_escribir_csv(txt_path, escritor_csv):\n",
    "    \"\"\"Lee un archivo .txt y escribe su contenido en el archivo .csv.\"\"\"\n",
    "    with open(txt_path, 'r', encoding='utf-8') as txt_file:\n",
    "        lector_txt = csv.reader(txt_file, delimiter=',')\n",
    "        for line in lector_txt:\n",
    "            if len(line) == 2:  # Verificar que la línea tenga exactamente dos elementos\n",
    "                fecha, valor = line\n",
    "                escritor_csv.writerow([fecha.strip(), valor.strip()])\n",
    "            else:\n",
    "                print(f\"Advertencia: Línea no válida en {txt_path}: {line}\")\n",
    "\n",
    "# Recorrer todas las subcarpetas en la carpeta principal\n",
    "for carpetaRaiz, _, archivos in os.walk(ubicacionPrincipal):\n",
    "    # Verificar si hay archivos .txt en la subcarpeta actual\n",
    "    txt_archivos = [f for f in archivos if f.endswith('.txt')]\n",
    "    if txt_archivos:\n",
    "        # Crear un nombre para el archivo CSV final basado en la subcarpeta\n",
    "        nombre_subcarpeta = os.path.basename(carpetaRaiz)\n",
    "        csv_final_path = os.path.join(carpetaRaiz, f\"{nombre_subcarpeta}_concatenado.csv\")\n",
    "        \n",
    "        # Abrir el archivo CSV final en modo escritura\n",
    "        with open(csv_final_path, 'w', newline='', encoding='utf-8') as csv_file:\n",
    "            escritor_csv = csv.writer(csv_file)\n",
    "            \n",
    "            # Agregar encabezados\n",
    "            escritor_csv.writerow(['fecha', 'valor'])\n",
    "            \n",
    "            # Procesar todos los archivos TXT en la subcarpeta actual\n",
    "            for archivo in txt_archivos:\n",
    "                txt_path = os.path.join(carpetaRaiz, archivo)\n",
    "                leer_txt_y_escribir_csv(txt_path, escritor_csv)\n",
    "        \n",
    "       \n",
    "print(\"Conversión completada.\")"
   ]
  },
  {
   "cell_type": "code",
   "execution_count": 8,
   "metadata": {},
   "outputs": [
    {
     "name": "stdout",
     "output_type": "stream",
     "text": [
      "Archivo guardado como 'archivo_modificado.csv'\n"
     ]
    }
   ],
   "source": [
    "import pandas as pd\n",
    "\n",
    "# Función para convertir el formato de fecha\n",
    "def convertir_formato_fecha(fecha_str):\n",
    "    # Separar la parte de la fecha y los segundos\n",
    "    fecha, segundos = fecha_str.rsplit('-', 1)\n",
    "    \n",
    "    # Quitar la parte decimal de los segundos\n",
    "    segundos = segundos.split('.')[0]\n",
    "    \n",
    "    # Reunir la fecha con los segundos sin decimales\n",
    "    nueva_fecha = f\"{fecha}-{segundos}\"\n",
    "    \n",
    "    # Cambiar el formato de espacio a guión bajo\n",
    "    nueva_fecha = nueva_fecha.replace(' ', '_')\n",
    "    \n",
    "    return nueva_fecha\n",
    "\n",
    "# Cargar los datos originales (reemplaza 'ruta_del_archivo.csv' con la ruta de tu archivo)\n",
    "df = pd.read_csv('nuevos datos/corriente_linea1/corriente_linea1_concatenado.csv')\n",
    "\n",
    "# Aplicar la conversión de fecha al DataFrame\n",
    "df['fecha'] = df['fecha'].apply(convertir_formato_fecha)\n",
    "\n",
    "# Renombrar la columna 'valor' a 'valor_corriente'\n",
    "df.rename(columns={'valor': 'valor_corriente'}, inplace=True)\n",
    "\n",
    "# Guardar el archivo modificado\n",
    "df.to_csv('archivo_modificado.csv', index=False)\n",
    "\n",
    "print(\"Archivo guardado como 'archivo_modificado.csv'\")\n"
   ]
  },
  {
   "cell_type": "code",
   "execution_count": 10,
   "metadata": {},
   "outputs": [
    {
     "name": "stdout",
     "output_type": "stream",
     "text": [
      "El archivo ha sido procesado y guardado en 'archivo_limpio.csv'.\n"
     ]
    }
   ],
   "source": [
    "# Leer el archivo CSV\n",
    "df_combinados = pd.read_csv('archivo_modificado.csv')\n",
    "\n",
    "# Eliminar filas duplicadas basándose únicamente en la columna 'fecha'\n",
    "df_combinados = df_combinados.drop_duplicates(subset='fecha', keep='first')\n",
    "\n",
    "# Eliminar filas con valores faltantes\n",
    "df_combinados.dropna(inplace=True)\n",
    "\n",
    "# Rellenar datos faltantes (opcional)\n",
    "df_combinados.fillna(value='valor_default', inplace=True)\n",
    "\n",
    "# Eliminar duplicados (si es necesario, después de rellenar datos faltantes)\n",
    "# df_combinados.drop_duplicates(inplace=True)\n",
    "\n",
    "# Eliminar espacios en blanco de la columna 'fecha'\n",
    "df_combinados['fecha'] = df_combinados['fecha'].str.strip()\n",
    "\n",
    "# Guardar el DataFrame modificado en un nuevo archivo CSV\n",
    "df_combinados.to_csv('archivo_limpio.csv', index=False)\n",
    "\n",
    "print(\"El archivo ha sido procesado y guardado en 'archivo_limpio.csv'.\")"
   ]
  }
 ],
 "metadata": {
  "kernelspec": {
   "display_name": "base",
   "language": "python",
   "name": "python3"
  },
  "language_info": {
   "codemirror_mode": {
    "name": "ipython",
    "version": 3
   },
   "file_extension": ".py",
   "mimetype": "text/x-python",
   "name": "python",
   "nbconvert_exporter": "python",
   "pygments_lexer": "ipython3",
   "version": "3.12.3"
  }
 },
 "nbformat": 4,
 "nbformat_minor": 2
}
