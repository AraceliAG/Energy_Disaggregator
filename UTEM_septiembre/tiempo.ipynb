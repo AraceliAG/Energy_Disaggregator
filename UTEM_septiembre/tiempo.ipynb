{
 "cells": [
  {
   "cell_type": "code",
   "execution_count": 1,
   "metadata": {},
   "outputs": [
    {
     "name": "stdout",
     "output_type": "stream",
     "text": [
      "El archivo se ha modificado y guardado como 'archivo_modificado.csv'.\n"
     ]
    }
   ],
   "source": [
    "import pandas as pd\n",
    "\n",
    "# Leer el archivo CSV\n",
    "archivo_csv = \"sala_de_maestros_utem.csv\"\n",
    "df = pd.read_csv(archivo_csv)\n",
    "\n",
    "# Convertir la columna de tiempo a formato datetime, si es necesario\n",
    "df['Time Bucket (America/Costa_Rica)'] = pd.to_datetime(df['Time Bucket (America/Costa_Rica)'], errors='coerce', dayfirst=True)\n",
    "\n",
    "# Formatear la columna de tiempo para añadir los segundos \":00\"\n",
    "df['Time Bucket (America/Costa_Rica)'] = df['Time Bucket (America/Costa_Rica)'].dt.strftime('%d/%m/%Y %H:%M:%S')\n",
    "\n",
    "# Guardar los cambios en un nuevo archivo CSV\n",
    "df.to_csv(\"archivo_modificado.csv\", index=False)\n",
    "\n",
    "print(\"El archivo se ha modificado y guardado como 'archivo_modificado.csv'.\")\n"
   ]
  },
  {
   "cell_type": "code",
   "execution_count": 2,
   "metadata": {},
   "outputs": [
    {
     "name": "stdout",
     "output_type": "stream",
     "text": [
      "Reemplazo completado y cambios guardados en 'sala_de_maestros.csv'.\n"
     ]
    },
    {
     "name": "stderr",
     "output_type": "stream",
     "text": [
      "C:\\Users\\cesar chavez\\AppData\\Local\\Temp\\ipykernel_12392\\1133235188.py:8: FutureWarning: Downcasting behavior in `replace` is deprecated and will be removed in a future version. To retain the old behavior, explicitly call `result.infer_objects(copy=False)`. To opt-in to the future behavior, set `pd.set_option('future.no_silent_downcasting', True)`\n",
      "  df.replace('No CT', 0, inplace=True)\n"
     ]
    }
   ],
   "source": [
    "import pandas as pd\n",
    "\n",
    "# Cargar el archivo CSV\n",
    "nombre_archivo = 'sala_de_maestros.csv'\n",
    "df = pd.read_csv(nombre_archivo)\n",
    "\n",
    "# Reemplazar todas las celdas que contengan 'No CT' por 0\n",
    "df.replace('No CT', 0, inplace=True)\n",
    "\n",
    "# Guardar los cambios en el mismo archivo\n",
    "df.to_csv(nombre_archivo, index=False)\n",
    "\n",
    "print(f\"Reemplazo completado y cambios guardados en '{nombre_archivo}'.\")\n"
   ]
  }
 ],
 "metadata": {
  "kernelspec": {
   "display_name": "base",
   "language": "python",
   "name": "python3"
  },
  "language_info": {
   "codemirror_mode": {
    "name": "ipython",
    "version": 3
   },
   "file_extension": ".py",
   "mimetype": "text/x-python",
   "name": "python",
   "nbconvert_exporter": "python",
   "pygments_lexer": "ipython3",
   "version": "3.12.3"
  }
 },
 "nbformat": 4,
 "nbformat_minor": 2
}
