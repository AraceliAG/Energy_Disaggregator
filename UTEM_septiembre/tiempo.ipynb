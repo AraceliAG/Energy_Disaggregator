{
 "cells": [
  {
   "cell_type": "code",
   "execution_count": 5,
   "metadata": {},
   "outputs": [
    {
     "name": "stdout",
     "output_type": "stream",
     "text": [
      "El archivo se ha modificado y guardado como 'archivo_modificado.csv'.\n"
     ]
    }
   ],
   "source": [
    "import pandas as pd\n",
    "\n",
    "# Leer el archivo CSV\n",
    "archivo_csv = \"EF63E8-UTeM_CIER_Sala_Mestros-1MIN analizar.csv\"\n",
    "df = pd.read_csv(archivo_csv)\n",
    "\n",
    "# Convertir la columna de tiempo a formato datetime, si es necesario\n",
    "df['Time Bucket (America/Costa_Rica)'] = pd.to_datetime(df['Time Bucket (America/Costa_Rica)'], errors='coerce', dayfirst=True)\n",
    "\n",
    "# Formatear la columna de tiempo para añadir los segundos \":00\"\n",
    "df['Time Bucket (America/Costa_Rica)'] = df['Time Bucket (America/Costa_Rica)'].dt.strftime('%d/%m/%Y %H:%M:%S')\n",
    "\n",
    "# Guardar los cambios en un nuevo archivo CSV\n",
    "df.to_csv(\"archivo_modificado.csv\", index=False)\n",
    "\n",
    "print(\"El archivo se ha modificado y guardado como 'archivo_modificado.csv'.\")\n"
   ]
  }
 ],
 "metadata": {
  "kernelspec": {
   "display_name": "base",
   "language": "python",
   "name": "python3"
  },
  "language_info": {
   "codemirror_mode": {
    "name": "ipython",
    "version": 3
   },
   "file_extension": ".py",
   "mimetype": "text/x-python",
   "name": "python",
   "nbconvert_exporter": "python",
   "pygments_lexer": "ipython3",
   "version": "3.12.3"
  }
 },
 "nbformat": 4,
 "nbformat_minor": 2
}
