{
 "cells": [
  {
   "cell_type": "markdown",
   "metadata": {},
   "source": [
    "PRIMERO INICIAREMOS EXPORTANDO LOS DATOS DE DATOS GENERALES EN NUESTRA CARPETA\n",
    " \n",
    "DATOS MANIPULACIÓN"
   ]
  },
  {
   "cell_type": "code",
   "execution_count": null,
   "metadata": {},
   "outputs": [],
   "source": [
    "dis = 'Datos_generales' #USUALMENTE ESTO NO SE CAMBIA YA QUE SIEMPRE TOMAREMOS COMO DATOS GENERALES CON ESTE NOMBRE\n",
    "\n"
   ]
  },
  {
   "cell_type": "markdown",
   "metadata": {},
   "source": [
    "AQUI SIMPLEMNTE CREAREMOS NUESTRA CARPETA"
   ]
  },
  {
   "cell_type": "code",
   "execution_count": 2,
   "metadata": {},
   "outputs": [],
   "source": [
    "import os\n",
    "import pandas as pd\n",
    "\n",
    "# Definir la carpeta raíz donde se encuentran los archivos\n",
    "ruta_base = 'Datos_generales'\n",
    "\n",
    "# Recorrer todas las subcarpetas de la carpeta 'datos_generales'\n",
    "for carpeta_raiz, subcarpetas, archivos in os.walk(ruta_base):\n",
    "    for archivo in archivos:\n",
    "        if archivo.endswith('.txt'):  # Filtrar solo archivos .txt\n",
    "            ruta_txt = os.path.join(carpeta_raiz, archivo)\n",
    "            \n",
    "            # Definir la nueva ruta para el archivo convertido a CSV\n",
    "            ruta_csv = os.path.join(carpeta_raiz, archivo.replace('.txt', '.csv'))\n",
    "            \n",
    "            # Leer el archivo .txt (adaptar según el formato del archivo .txt, separador, etc.)\n",
    "            try:\n",
    "                # En este ejemplo se supone que el archivo tiene columnas separadas por comas\n",
    "                df = pd.read_csv(ruta_txt, sep='\\t', header=None)  # Cambiar 'sep' si es necesario\n",
    "                \n",
    "                # Guardar el archivo convertido a CSV\n",
    "                df.to_csv(ruta_csv, index=False)\n",
    "                print(f\"Convertido: {ruta_txt} -> {ruta_csv}\")\n",
    "            except Exception as e:\n",
    "                print(f\"Error al convertir {ruta_txt}: {e}\")\n"
   ]
  }
 ],
 "metadata": {
  "kernelspec": {
   "display_name": "Python 3",
   "language": "python",
   "name": "python3"
  },
  "language_info": {
   "codemirror_mode": {
    "name": "ipython",
    "version": 3
   },
   "file_extension": ".py",
   "mimetype": "text/x-python",
   "name": "python",
   "nbconvert_exporter": "python",
   "pygments_lexer": "ipython3",
   "version": "3.11.4"
  }
 },
 "nbformat": 4,
 "nbformat_minor": 2
}
